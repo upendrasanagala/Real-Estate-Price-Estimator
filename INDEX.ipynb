{
 "cells": [
  {
   "cell_type": "markdown",
   "id": "cc94051a-5eef-454c-a3ff-fdf8c7c21c1d",
   "metadata": {},
   "source": [
    "# 1. Import sklearn Libraries"
   ]
  },
  {
   "cell_type": "code",
   "execution_count": 1,
   "id": "9dd2077d-67f0-4c15-ac07-55651e02ea3c",
   "metadata": {},
   "outputs": [],
   "source": [
    "import numpy as np\n",
    "import pandas as pd\n",
    "import seaborn as sns\n",
    "import matplotlib.pyplot as plt\n",
    "import matplotlib.pylab as pylab\n",
    "from sklearn.preprocessing import LabelEncoder\n",
    "from sklearn.model_selection import train_test_split"
   ]
  },
  {
   "cell_type": "markdown",
   "id": "15826a68-ed57-4853-8d9d-c989068cd533",
   "metadata": {},
   "source": [
    "# 2.Import Data Sets"
   ]
  },
  {
   "cell_type": "code",
   "execution_count": 2,
   "id": "6534a100-7278-41d9-8036-f886ed509e68",
   "metadata": {},
   "outputs": [],
   "source": [
    "data=pd.read_csv(\"Final_Project.csv\")"
   ]
  },
  {
   "cell_type": "code",
   "execution_count": 3,
   "id": "11fe6aa1-a0da-4729-98d7-fb3b1dda25b8",
   "metadata": {
    "collapsed": true,
    "jupyter": {
     "outputs_hidden": true
    }
   },
   "outputs": [
    {
     "data": {
      "text/html": [
       "<div>\n",
       "<style scoped>\n",
       "    .dataframe tbody tr th:only-of-type {\n",
       "        vertical-align: middle;\n",
       "    }\n",
       "\n",
       "    .dataframe tbody tr th {\n",
       "        vertical-align: top;\n",
       "    }\n",
       "\n",
       "    .dataframe thead th {\n",
       "        text-align: right;\n",
       "    }\n",
       "</style>\n",
       "<table border=\"1\" class=\"dataframe\">\n",
       "  <thead>\n",
       "    <tr style=\"text-align: right;\">\n",
       "      <th></th>\n",
       "      <th>Property_Name</th>\n",
       "      <th>Location</th>\n",
       "      <th>Region</th>\n",
       "      <th>Property_Age</th>\n",
       "      <th>Availability</th>\n",
       "      <th>Area_Tpye</th>\n",
       "      <th>Area_SqFt</th>\n",
       "      <th>Rate_SqFt</th>\n",
       "      <th>Floor_No</th>\n",
       "      <th>Bedroom</th>\n",
       "      <th>Bathroom</th>\n",
       "      <th>Price_Lakh</th>\n",
       "    </tr>\n",
       "  </thead>\n",
       "  <tbody>\n",
       "    <tr>\n",
       "      <th>0</th>\n",
       "      <td>Omkar Alta Monte</td>\n",
       "      <td>W E Highway Malad East Mumbai</td>\n",
       "      <td>Malad Mumbai</td>\n",
       "      <td>0 to 1 Year</td>\n",
       "      <td>Ready To Move</td>\n",
       "      <td>Super Built Up Area</td>\n",
       "      <td>2900.0</td>\n",
       "      <td>17241</td>\n",
       "      <td>14</td>\n",
       "      <td>3</td>\n",
       "      <td>4</td>\n",
       "      <td>500.0</td>\n",
       "    </tr>\n",
       "    <tr>\n",
       "      <th>1</th>\n",
       "      <td>T Bhimjyani Neelkanth Woods</td>\n",
       "      <td>Manpada Thane Mumbai</td>\n",
       "      <td>Manpada Thane</td>\n",
       "      <td>1 to 5 Year</td>\n",
       "      <td>Ready To Move</td>\n",
       "      <td>Super Built Up Area</td>\n",
       "      <td>1900.0</td>\n",
       "      <td>12631</td>\n",
       "      <td>8</td>\n",
       "      <td>3</td>\n",
       "      <td>3</td>\n",
       "      <td>240.0</td>\n",
       "    </tr>\n",
       "    <tr>\n",
       "      <th>2</th>\n",
       "      <td>Legend 1 Pramila Nagar</td>\n",
       "      <td>Dahisar West Mumbai</td>\n",
       "      <td>Dahisar Mumbai</td>\n",
       "      <td>10+ Year</td>\n",
       "      <td>Ready To Move</td>\n",
       "      <td>Super Built Up Area</td>\n",
       "      <td>595.0</td>\n",
       "      <td>15966</td>\n",
       "      <td>3</td>\n",
       "      <td>1</td>\n",
       "      <td>2</td>\n",
       "      <td>95.0</td>\n",
       "    </tr>\n",
       "    <tr>\n",
       "      <th>3</th>\n",
       "      <td>Unnamed Property</td>\n",
       "      <td>Vidyavihar West Vidyavihar West Central Mumbai...</td>\n",
       "      <td>Central Mumbai</td>\n",
       "      <td>5 to 10 Year</td>\n",
       "      <td>Ready To Move</td>\n",
       "      <td>Built Up Area</td>\n",
       "      <td>1450.0</td>\n",
       "      <td>25862</td>\n",
       "      <td>1</td>\n",
       "      <td>3</td>\n",
       "      <td>3</td>\n",
       "      <td>375.0</td>\n",
       "    </tr>\n",
       "    <tr>\n",
       "      <th>4</th>\n",
       "      <td>Unnamed Property</td>\n",
       "      <td>176 Cst Road Kalina Mumbai 400098 Santacruz Ea...</td>\n",
       "      <td>Santacruz Mumbai</td>\n",
       "      <td>5 to 10 Year</td>\n",
       "      <td>Ready To Move</td>\n",
       "      <td>Carpet Area</td>\n",
       "      <td>876.0</td>\n",
       "      <td>39954</td>\n",
       "      <td>5</td>\n",
       "      <td>2</td>\n",
       "      <td>2</td>\n",
       "      <td>350.0</td>\n",
       "    </tr>\n",
       "    <tr>\n",
       "      <th>...</th>\n",
       "      <td>...</td>\n",
       "      <td>...</td>\n",
       "      <td>...</td>\n",
       "      <td>...</td>\n",
       "      <td>...</td>\n",
       "      <td>...</td>\n",
       "      <td>...</td>\n",
       "      <td>...</td>\n",
       "      <td>...</td>\n",
       "      <td>...</td>\n",
       "      <td>...</td>\n",
       "      <td>...</td>\n",
       "    </tr>\n",
       "    <tr>\n",
       "      <th>2526</th>\n",
       "      <td>Shagun White Woods</td>\n",
       "      <td>Sector 23 Ulwe Navi Mumbai Mumbai</td>\n",
       "      <td>Ulwe Navi-Mumbai</td>\n",
       "      <td>1 to 5 Year</td>\n",
       "      <td>Ready To Move</td>\n",
       "      <td>Built Up Area</td>\n",
       "      <td>1180.0</td>\n",
       "      <td>10338</td>\n",
       "      <td>2</td>\n",
       "      <td>2</td>\n",
       "      <td>2</td>\n",
       "      <td>122.0</td>\n",
       "    </tr>\n",
       "    <tr>\n",
       "      <th>2527</th>\n",
       "      <td>Guru Anant</td>\n",
       "      <td>Sector 2 Ulwe Navi Mumbai Mumbai</td>\n",
       "      <td>Ulwe Navi-Mumbai</td>\n",
       "      <td>0 to 1 Year</td>\n",
       "      <td>Ready To Move</td>\n",
       "      <td>Built Up Area</td>\n",
       "      <td>1090.0</td>\n",
       "      <td>8073</td>\n",
       "      <td>11</td>\n",
       "      <td>2</td>\n",
       "      <td>2</td>\n",
       "      <td>88.0</td>\n",
       "    </tr>\n",
       "    <tr>\n",
       "      <th>2528</th>\n",
       "      <td>Balaji Mayuresh Delta</td>\n",
       "      <td>Ulwe Navi Mumbai Mumbai</td>\n",
       "      <td>Ulwe Navi-Mumbai</td>\n",
       "      <td>1 to 5 Year</td>\n",
       "      <td>Ready To Move</td>\n",
       "      <td>Built Up Area</td>\n",
       "      <td>1295.0</td>\n",
       "      <td>10579</td>\n",
       "      <td>6</td>\n",
       "      <td>2</td>\n",
       "      <td>2</td>\n",
       "      <td>137.0</td>\n",
       "    </tr>\n",
       "    <tr>\n",
       "      <th>2529</th>\n",
       "      <td>Balaji Mayuresh Delta</td>\n",
       "      <td>Ulwe Navi Mumbai Mumbai</td>\n",
       "      <td>Ulwe Navi-Mumbai</td>\n",
       "      <td>1 to 5 Year</td>\n",
       "      <td>Ready To Move</td>\n",
       "      <td>Built Up Area</td>\n",
       "      <td>1850.0</td>\n",
       "      <td>9243</td>\n",
       "      <td>6</td>\n",
       "      <td>3</td>\n",
       "      <td>3</td>\n",
       "      <td>171.0</td>\n",
       "    </tr>\n",
       "    <tr>\n",
       "      <th>2530</th>\n",
       "      <td>Gurukrupa Tulsi Heights</td>\n",
       "      <td>Ulwe Navi Mumbai Mumbai</td>\n",
       "      <td>Ulwe Navi-Mumbai</td>\n",
       "      <td>0 to 1 Year</td>\n",
       "      <td>Ready To Move</td>\n",
       "      <td>Built Up Area</td>\n",
       "      <td>1100.0</td>\n",
       "      <td>8636</td>\n",
       "      <td>4</td>\n",
       "      <td>2</td>\n",
       "      <td>2</td>\n",
       "      <td>95.0</td>\n",
       "    </tr>\n",
       "  </tbody>\n",
       "</table>\n",
       "<p>2531 rows × 12 columns</p>\n",
       "</div>"
      ],
      "text/plain": [
       "                     Property_Name  \\\n",
       "0                Omkar Alta Monte    \n",
       "1     T Bhimjyani Neelkanth Woods    \n",
       "2          Legend 1 Pramila Nagar    \n",
       "3                 Unnamed Property   \n",
       "4                 Unnamed Property   \n",
       "...                            ...   \n",
       "2526           Shagun White Woods    \n",
       "2527                   Guru Anant    \n",
       "2528        Balaji Mayuresh Delta    \n",
       "2529        Balaji Mayuresh Delta    \n",
       "2530      Gurukrupa Tulsi Heights    \n",
       "\n",
       "                                               Location            Region  \\\n",
       "0                         W E Highway Malad East Mumbai      Malad Mumbai   \n",
       "1                                  Manpada Thane Mumbai     Manpada Thane   \n",
       "2                                   Dahisar West Mumbai    Dahisar Mumbai   \n",
       "3     Vidyavihar West Vidyavihar West Central Mumbai...    Central Mumbai   \n",
       "4     176 Cst Road Kalina Mumbai 400098 Santacruz Ea...  Santacruz Mumbai   \n",
       "...                                                 ...               ...   \n",
       "2526                  Sector 23 Ulwe Navi Mumbai Mumbai  Ulwe Navi-Mumbai   \n",
       "2527                   Sector 2 Ulwe Navi Mumbai Mumbai  Ulwe Navi-Mumbai   \n",
       "2528                            Ulwe Navi Mumbai Mumbai  Ulwe Navi-Mumbai   \n",
       "2529                            Ulwe Navi Mumbai Mumbai  Ulwe Navi-Mumbai   \n",
       "2530                            Ulwe Navi Mumbai Mumbai  Ulwe Navi-Mumbai   \n",
       "\n",
       "      Property_Age   Availability            Area_Tpye  Area_SqFt  Rate_SqFt  \\\n",
       "0      0 to 1 Year  Ready To Move  Super Built Up Area     2900.0      17241   \n",
       "1      1 to 5 Year  Ready To Move  Super Built Up Area     1900.0      12631   \n",
       "2         10+ Year  Ready To Move  Super Built Up Area      595.0      15966   \n",
       "3     5 to 10 Year  Ready To Move        Built Up Area     1450.0      25862   \n",
       "4     5 to 10 Year  Ready To Move          Carpet Area      876.0      39954   \n",
       "...            ...            ...                  ...        ...        ...   \n",
       "2526   1 to 5 Year  Ready To Move        Built Up Area     1180.0      10338   \n",
       "2527   0 to 1 Year  Ready To Move        Built Up Area     1090.0       8073   \n",
       "2528   1 to 5 Year  Ready To Move        Built Up Area     1295.0      10579   \n",
       "2529   1 to 5 Year  Ready To Move        Built Up Area     1850.0       9243   \n",
       "2530   0 to 1 Year  Ready To Move        Built Up Area     1100.0       8636   \n",
       "\n",
       "      Floor_No  Bedroom  Bathroom  Price_Lakh  \n",
       "0           14        3         4       500.0  \n",
       "1            8        3         3       240.0  \n",
       "2            3        1         2        95.0  \n",
       "3            1        3         3       375.0  \n",
       "4            5        2         2       350.0  \n",
       "...        ...      ...       ...         ...  \n",
       "2526         2        2         2       122.0  \n",
       "2527        11        2         2        88.0  \n",
       "2528         6        2         2       137.0  \n",
       "2529         6        3         3       171.0  \n",
       "2530         4        2         2        95.0  \n",
       "\n",
       "[2531 rows x 12 columns]"
      ]
     },
     "execution_count": 3,
     "metadata": {},
     "output_type": "execute_result"
    }
   ],
   "source": [
    "data"
   ]
  },
  {
   "cell_type": "markdown",
   "id": "466dd154-e287-4d1d-85cc-25d571fec815",
   "metadata": {},
   "source": [
    "# 3.Data Understanding"
   ]
  },
  {
   "cell_type": "code",
   "execution_count": 9,
   "id": "bf8a3671-98b2-4a60-bb4f-879b6a868616",
   "metadata": {},
   "outputs": [
    {
     "data": {
      "text/plain": [
       "(2531, 12)"
      ]
     },
     "execution_count": 9,
     "metadata": {},
     "output_type": "execute_result"
    }
   ],
   "source": [
    "data.shape"
   ]
  },
  {
   "cell_type": "code",
   "execution_count": 4,
   "id": "42cd59aa-22ea-4971-a25d-8fd84a637c5c",
   "metadata": {
    "collapsed": true,
    "jupyter": {
     "outputs_hidden": true
    },
    "scrolled": true
   },
   "outputs": [
    {
     "data": {
      "text/html": [
       "<div>\n",
       "<style scoped>\n",
       "    .dataframe tbody tr th:only-of-type {\n",
       "        vertical-align: middle;\n",
       "    }\n",
       "\n",
       "    .dataframe tbody tr th {\n",
       "        vertical-align: top;\n",
       "    }\n",
       "\n",
       "    .dataframe thead th {\n",
       "        text-align: right;\n",
       "    }\n",
       "</style>\n",
       "<table border=\"1\" class=\"dataframe\">\n",
       "  <thead>\n",
       "    <tr style=\"text-align: right;\">\n",
       "      <th></th>\n",
       "      <th>Area_SqFt</th>\n",
       "      <th>Rate_SqFt</th>\n",
       "      <th>Floor_No</th>\n",
       "      <th>Bedroom</th>\n",
       "      <th>Bathroom</th>\n",
       "      <th>Price_Lakh</th>\n",
       "    </tr>\n",
       "  </thead>\n",
       "  <tbody>\n",
       "    <tr>\n",
       "      <th>count</th>\n",
       "      <td>2531.000000</td>\n",
       "      <td>2531.000000</td>\n",
       "      <td>2531.000000</td>\n",
       "      <td>2531.000000</td>\n",
       "      <td>2531.000000</td>\n",
       "      <td>2531.000000</td>\n",
       "    </tr>\n",
       "    <tr>\n",
       "      <th>mean</th>\n",
       "      <td>948.774160</td>\n",
       "      <td>16553.692612</td>\n",
       "      <td>8.784275</td>\n",
       "      <td>1.947847</td>\n",
       "      <td>2.051758</td>\n",
       "      <td>161.346977</td>\n",
       "    </tr>\n",
       "    <tr>\n",
       "      <th>std</th>\n",
       "      <td>486.829396</td>\n",
       "      <td>10204.274882</td>\n",
       "      <td>7.982645</td>\n",
       "      <td>0.830523</td>\n",
       "      <td>0.735390</td>\n",
       "      <td>162.318502</td>\n",
       "    </tr>\n",
       "    <tr>\n",
       "      <th>min</th>\n",
       "      <td>185.000000</td>\n",
       "      <td>1808.000000</td>\n",
       "      <td>-1.000000</td>\n",
       "      <td>1.000000</td>\n",
       "      <td>1.000000</td>\n",
       "      <td>13.000000</td>\n",
       "    </tr>\n",
       "    <tr>\n",
       "      <th>25%</th>\n",
       "      <td>634.500000</td>\n",
       "      <td>8751.000000</td>\n",
       "      <td>3.000000</td>\n",
       "      <td>1.000000</td>\n",
       "      <td>2.000000</td>\n",
       "      <td>66.000000</td>\n",
       "    </tr>\n",
       "    <tr>\n",
       "      <th>50%</th>\n",
       "      <td>850.000000</td>\n",
       "      <td>13636.000000</td>\n",
       "      <td>6.000000</td>\n",
       "      <td>2.000000</td>\n",
       "      <td>2.000000</td>\n",
       "      <td>110.000000</td>\n",
       "    </tr>\n",
       "    <tr>\n",
       "      <th>75%</th>\n",
       "      <td>1150.000000</td>\n",
       "      <td>22314.000000</td>\n",
       "      <td>12.000000</td>\n",
       "      <td>2.000000</td>\n",
       "      <td>2.000000</td>\n",
       "      <td>197.000000</td>\n",
       "    </tr>\n",
       "    <tr>\n",
       "      <th>max</th>\n",
       "      <td>5000.000000</td>\n",
       "      <td>55611.000000</td>\n",
       "      <td>55.000000</td>\n",
       "      <td>6.000000</td>\n",
       "      <td>7.000000</td>\n",
       "      <td>1900.000000</td>\n",
       "    </tr>\n",
       "  </tbody>\n",
       "</table>\n",
       "</div>"
      ],
      "text/plain": [
       "         Area_SqFt     Rate_SqFt     Floor_No      Bedroom     Bathroom  \\\n",
       "count  2531.000000   2531.000000  2531.000000  2531.000000  2531.000000   \n",
       "mean    948.774160  16553.692612     8.784275     1.947847     2.051758   \n",
       "std     486.829396  10204.274882     7.982645     0.830523     0.735390   \n",
       "min     185.000000   1808.000000    -1.000000     1.000000     1.000000   \n",
       "25%     634.500000   8751.000000     3.000000     1.000000     2.000000   \n",
       "50%     850.000000  13636.000000     6.000000     2.000000     2.000000   \n",
       "75%    1150.000000  22314.000000    12.000000     2.000000     2.000000   \n",
       "max    5000.000000  55611.000000    55.000000     6.000000     7.000000   \n",
       "\n",
       "        Price_Lakh  \n",
       "count  2531.000000  \n",
       "mean    161.346977  \n",
       "std     162.318502  \n",
       "min      13.000000  \n",
       "25%      66.000000  \n",
       "50%     110.000000  \n",
       "75%     197.000000  \n",
       "max    1900.000000  "
      ]
     },
     "execution_count": 4,
     "metadata": {},
     "output_type": "execute_result"
    }
   ],
   "source": [
    "data.describe()"
   ]
  },
  {
   "cell_type": "code",
   "execution_count": 5,
   "id": "c87c2be8-5324-4adb-871b-e2b0bb3455ce",
   "metadata": {
    "collapsed": true,
    "jupyter": {
     "outputs_hidden": true
    },
    "scrolled": true
   },
   "outputs": [
    {
     "name": "stdout",
     "output_type": "stream",
     "text": [
      "<class 'pandas.core.frame.DataFrame'>\n",
      "Index: 2531 entries, 0 to 2530\n",
      "Data columns (total 12 columns):\n",
      " #   Column         Non-Null Count  Dtype  \n",
      "---  ------         --------------  -----  \n",
      " 0   Property_Name  2531 non-null   object \n",
      " 1   Location       2531 non-null   object \n",
      " 2   Region         2531 non-null   object \n",
      " 3   Property_Age   2531 non-null   object \n",
      " 4   Availability   2531 non-null   object \n",
      " 5   Area_Tpye      2531 non-null   object \n",
      " 6   Area_SqFt      2531 non-null   float64\n",
      " 7   Rate_SqFt      2531 non-null   int64  \n",
      " 8   Floor_No       2531 non-null   int64  \n",
      " 9   Bedroom        2531 non-null   int64  \n",
      " 10  Bathroom       2531 non-null   int64  \n",
      " 11  Price_Lakh     2531 non-null   float64\n",
      "dtypes: float64(2), int64(4), object(6)\n",
      "memory usage: 257.1+ KB\n"
     ]
    }
   ],
   "source": [
    "data.info()"
   ]
  },
  {
   "cell_type": "code",
   "execution_count": 6,
   "id": "7c4a6ba9-8fd9-45ad-9f4a-a958e4c848c4",
   "metadata": {
    "collapsed": true,
    "jupyter": {
     "outputs_hidden": true
    }
   },
   "outputs": [
    {
     "data": {
      "text/plain": [
       "Property_Name    0\n",
       "Location         0\n",
       "Region           0\n",
       "Property_Age     0\n",
       "Availability     0\n",
       "Area_Tpye        0\n",
       "Area_SqFt        0\n",
       "Rate_SqFt        0\n",
       "Floor_No         0\n",
       "Bedroom          0\n",
       "Bathroom         0\n",
       "Price_Lakh       0\n",
       "dtype: int64"
      ]
     },
     "execution_count": 6,
     "metadata": {},
     "output_type": "execute_result"
    }
   ],
   "source": [
    "data.isnull().sum()"
   ]
  },
  {
   "cell_type": "code",
   "execution_count": 7,
   "id": "943ddecb-003a-445c-b3c1-aace6e66d97a",
   "metadata": {
    "collapsed": true,
    "jupyter": {
     "outputs_hidden": true
    }
   },
   "outputs": [
    {
     "data": {
      "text/plain": [
       "Property_Name     894\n",
       "Location         1294\n",
       "Region            145\n",
       "Property_Age        5\n",
       "Availability        2\n",
       "Area_Tpye           4\n",
       "Area_SqFt         696\n",
       "Rate_SqFt        1990\n",
       "Floor_No           52\n",
       "Bedroom             6\n",
       "Bathroom            7\n",
       "Price_Lakh        467\n",
       "dtype: int64"
      ]
     },
     "execution_count": 7,
     "metadata": {},
     "output_type": "execute_result"
    }
   ],
   "source": [
    "data.nunique()"
   ]
  },
  {
   "cell_type": "markdown",
   "id": "77597ea5-e79d-4b7c-96dd-9d529db22d86",
   "metadata": {},
   "source": [
    "# 4. Featureing Engineering"
   ]
  },
  {
   "cell_type": "markdown",
   "id": "eb72f4c8-c688-4d6a-a348-e00533406ed0",
   "metadata": {},
   "source": [
    "#### 4.1 Label Encoding for Categorical Columns"
   ]
  },
  {
   "cell_type": "code",
   "execution_count": 10,
   "id": "3a4653e5-834f-47db-b1f2-aa5f65deb34b",
   "metadata": {},
   "outputs": [],
   "source": [
    "le = LabelEncoder()"
   ]
  },
  {
   "cell_type": "code",
   "execution_count": 13,
   "id": "081aa1d9-3077-4007-8cdb-b1ad96299c6f",
   "metadata": {},
   "outputs": [],
   "source": [
    " x=data.drop(\"Price_Lakh\",axis=1)\n",
    "y=data[[\"Price_Lakh\"]]"
   ]
  },
  {
   "cell_type": "code",
   "execution_count": 14,
   "id": "3ab02891-85f5-4f00-ba91-28f14f15b076",
   "metadata": {},
   "outputs": [],
   "source": [
    "x[\"Property_Name\"]=le.fit_transform(x[\"Property_Name\"])"
   ]
  },
  {
   "cell_type": "code",
   "execution_count": 15,
   "id": "5e250d12-5af2-48a2-b473-abae798328d8",
   "metadata": {},
   "outputs": [],
   "source": [
    "x[\"Location\"]=le.fit_transform(x[\"Location\"])"
   ]
  },
  {
   "cell_type": "code",
   "execution_count": 17,
   "id": "705ebeec-f4a5-4323-9eb8-5158e16eee6d",
   "metadata": {},
   "outputs": [],
   "source": [
    "x[\"Region\"]=le.fit_transform(x[\"Region\"])"
   ]
  },
  {
   "cell_type": "code",
   "execution_count": 18,
   "id": "b540ca3d-47bc-45b6-9493-e08bf21d3bc8",
   "metadata": {},
   "outputs": [],
   "source": [
    "x[\"Property_Age\"]=le.fit_transform(x[\"Property_Age\"])"
   ]
  },
  {
   "cell_type": "code",
   "execution_count": 19,
   "id": "ff77e70f-1fb1-4157-9caa-221c8accb241",
   "metadata": {},
   "outputs": [],
   "source": [
    "x[\"Availability\"]=le.fit_transform(x[\"Availability\"])"
   ]
  },
  {
   "cell_type": "code",
   "execution_count": 20,
   "id": "8dacd5a9-da5d-4b44-a8ae-1a38fd6b44f1",
   "metadata": {},
   "outputs": [],
   "source": [
    "x[\"Area_Tpye\"]=le.fit_transform(x[\"Area_Tpye\"])"
   ]
  },
  {
   "cell_type": "code",
   "execution_count": 21,
   "id": "c24644de-866e-48ef-99c0-652972ec98a8",
   "metadata": {},
   "outputs": [],
   "source": [
    "x_train,x_test,y_train,y_test=train_test_split(x,y,test_size=0.22)"
   ]
  },
  {
   "cell_type": "code",
   "execution_count": 22,
   "id": "1193f112-c48c-4745-b487-1ed10000390a",
   "metadata": {},
   "outputs": [
    {
     "data": {
      "text/plain": [
       "21714"
      ]
     },
     "execution_count": 22,
     "metadata": {},
     "output_type": "execute_result"
    }
   ],
   "source": [
    "x_train.size"
   ]
  },
  {
   "cell_type": "markdown",
   "id": "86896152-1d29-4a65-8e49-7866783e64f7",
   "metadata": {},
   "source": [
    "# 5.Modeling"
   ]
  },
  {
   "cell_type": "code",
   "execution_count": 23,
   "id": "1aa4797b-897a-4cf7-8dfc-29819328d522",
   "metadata": {},
   "outputs": [],
   "source": [
    "from sklearn.linear_model import Ridge, Lasso\n",
    "from sklearn.preprocessing import StandardScaler\n",
    "from sklearn.model_selection import GridSearchCV\n",
    "from sklearn.metrics import mean_squared_error, r2_score"
   ]
  },
  {
   "cell_type": "code",
   "execution_count": 24,
   "id": "17338f33-a73f-41b2-9c7c-df56f5a17fb6",
   "metadata": {},
   "outputs": [],
   "source": [
    "# 1. Feature Scaling (important before Ridge/Lasso)\n",
    "scaler = StandardScaler()\n",
    "x_train_scaled = scaler.fit_transform(x_train)\n",
    "x_test_scaled = scaler.transform(x_test)"
   ]
  },
  {
   "cell_type": "code",
   "execution_count": 25,
   "id": "5a553987-c423-4c40-bb6b-df7d862bdd30",
   "metadata": {},
   "outputs": [],
   "source": [
    "# 2. Define alpha range to tune\n",
    "alpha_values = {'alpha': [0.01, 0.1, 1, 10, 100]}"
   ]
  },
  {
   "cell_type": "code",
   "execution_count": 26,
   "id": "a06ce969-bd2e-47c4-b3ff-6af1283f0246",
   "metadata": {},
   "outputs": [],
   "source": [
    "# 3. Ridge Regression\n",
    "ridge = GridSearchCV(Ridge(), alpha_values, cv=5)\n",
    "ridge.fit(x_train_scaled, y_train)\n",
    "ridge_preds = ridge.predict(x_test_scaled)"
   ]
  },
  {
   "cell_type": "code",
   "execution_count": 27,
   "id": "54e85d60-80df-4d20-80ba-c0b85e41508f",
   "metadata": {},
   "outputs": [],
   "source": [
    "# 4. Lasso Regression\n",
    "lasso = GridSearchCV(Lasso(), alpha_values, cv=5)\n",
    "lasso.fit(x_train_scaled, y_train)\n",
    "lasso_preds = lasso.predict(x_test_scaled)"
   ]
  },
  {
   "cell_type": "code",
   "execution_count": 33,
   "id": "759b8a72-0f33-44a9-a8e6-3224e51347e0",
   "metadata": {},
   "outputs": [
    {
     "name": "stdout",
     "output_type": "stream",
     "text": [
      " . Ridge Regression Results\n",
      "Best alpha: 10\n",
      "R² Score: 0.8705387160442695\n",
      "RMSE: 3770.97327956291\n"
     ]
    }
   ],
   "source": [
    "# 5. Evaluation\n",
    "print(\" . Ridge Regression Results\")\n",
    "print(\"Best alpha:\", ridge.best_params_['alpha'])\n",
    "print(\"R² Score:\", r2_score(y_test, ridge_preds))\n",
    "print(\"RMSE:\", mean_squared_error(y_test, ridge_preds))"
   ]
  },
  {
   "cell_type": "code",
   "execution_count": 34,
   "id": "454bae7c-8220-4734-ac38-4fa3dab05e2f",
   "metadata": {},
   "outputs": [
    {
     "name": "stdout",
     "output_type": "stream",
     "text": [
      "\n",
      " . Lasso Regression Results\n",
      "Best alpha: 0.1\n",
      "R² Score: 0.8702584799351886\n",
      "RMSE: 3779.136051065116\n"
     ]
    }
   ],
   "source": [
    "print(\"\\n . Lasso Regression Results\")\n",
    "print(\"Best alpha:\", lasso.best_params_['alpha'])\n",
    "print(\"R² Score:\", r2_score(y_test, lasso_preds))\n",
    "print(\"RMSE:\", mean_squared_error(y_test, lasso_preds))"
   ]
  },
  {
   "cell_type": "markdown",
   "id": "87db9dc6-5308-4345-941f-a4ec04c2b529",
   "metadata": {},
   "source": [
    "# 6.Evaluation "
   ]
  },
  {
   "cell_type": "markdown",
   "id": "28c796e8-eae8-4b25-a5d7-24655433661c",
   "metadata": {},
   "source": [
    "#### 6.1 Metrics (R², MAE, MSE)"
   ]
  },
  {
   "cell_type": "code",
   "execution_count": 35,
   "id": "842fbda1-33db-47f3-ab67-5d2940af4298",
   "metadata": {},
   "outputs": [],
   "source": [
    "from sklearn.metrics import mean_absolute_error, mean_squared_error, r2_score"
   ]
  },
  {
   "cell_type": "code",
   "execution_count": 36,
   "id": "56d569c1-63da-4f86-9b16-f286711b5268",
   "metadata": {},
   "outputs": [],
   "source": [
    "# Ridge Evaluation\n",
    "ridge_r2 = r2_score(y_test, ridge_preds)\n",
    "ridge_mae = mean_absolute_error(y_test, ridge_preds)\n",
    "ridge_mse = mean_squared_error(y_test, ridge_preds)"
   ]
  },
  {
   "cell_type": "code",
   "execution_count": 37,
   "id": "00c6a8ca-0861-4509-9ce3-fc11b9b138ad",
   "metadata": {},
   "outputs": [],
   "source": [
    "# Lasso Evaluation\n",
    "lasso_r2 = r2_score(y_test, lasso_preds)\n",
    "lasso_mae = mean_absolute_error(y_test, lasso_preds)\n",
    "lasso_mse = mean_squared_error(y_test, lasso_preds)"
   ]
  },
  {
   "cell_type": "code",
   "execution_count": 38,
   "id": "f06ea586-7bca-48f1-a9c1-8d9fab84618e",
   "metadata": {},
   "outputs": [
    {
     "name": "stdout",
     "output_type": "stream",
     "text": [
      " . Ridge Regression:\n",
      "R² Score: 0.8705\n",
      "MAE: 36.96\n",
      "MSE: 3770.97\n"
     ]
    }
   ],
   "source": [
    "# Print results\n",
    "print(\" . Ridge Regression:\")\n",
    "print(f\"R² Score: {ridge_r2:.4f}\")\n",
    "print(f\"MAE: {ridge_mae:.2f}\")\n",
    "print(f\"MSE: {ridge_mse:.2f}\")"
   ]
  },
  {
   "cell_type": "code",
   "execution_count": 39,
   "id": "e1d47033-749d-4b8f-b51b-d9f41b864a36",
   "metadata": {},
   "outputs": [
    {
     "name": "stdout",
     "output_type": "stream",
     "text": [
      "\n",
      " . Lasso Regression:\n",
      "R² Score: 0.8703\n",
      "MAE: 37.17\n",
      "MSE: 3779.14\n"
     ]
    }
   ],
   "source": [
    "print(\"\\n . Lasso Regression:\")\n",
    "print(f\"R² Score: {lasso_r2:.4f}\")\n",
    "print(f\"MAE: {lasso_mae:.2f}\")\n",
    "print(f\"MSE: {lasso_mse:.2f}\")"
   ]
  },
  {
   "cell_type": "markdown",
   "id": "990cdaea-71ef-43c5-b7eb-7cf5f1c81f2d",
   "metadata": {},
   "source": [
    "#### 6.2Plot prediction vs. actual"
   ]
  },
  {
   "cell_type": "code",
   "execution_count": 40,
   "id": "dda8d91b-837b-4903-97c0-75b6dc74abb9",
   "metadata": {},
   "outputs": [
    {
     "data": {
      "image/png": "[encoded data removed]",
      "text/plain": [
       "<Figure size 800x600 with 1 Axes>"
      ]
     },
     "metadata": {},
     "output_type": "display_data"
    }
   ],
   "source": [
    "plt.figure(figsize=(8, 6))\n",
    "plt.scatter(y_test, ridge_preds, color='blue', alpha=0.5, label=\"Ridge\")\n",
    "plt.scatter(y_test, lasso_preds, color='red', alpha=0.5, label=\"Lasso\")\n",
    "plt.plot(y_test, y_test, 'k--', label='Perfect Prediction Line')\n",
    "plt.xlabel(\"Actual Price\")\n",
    "plt.ylabel(\"Predicted Price\")\n",
    "plt.title(\"Actual vs Predicted House Prices\")\n",
    "plt.legend()\n",
    "plt.grid(True)\n",
    "plt.show()"
   ]
  },
  {
   "cell_type": "markdown",
   "id": "8925d202-c5dd-4181-871e-7e8250efb2f1",
   "metadata": {},
   "source": [
    "#### 6.3 Analyze Coefficients"
   ]
  },
  {
   "cell_type": "code",
   "execution_count": 41,
   "id": "1199202b-62a0-4cfb-adf1-386259c14b54",
   "metadata": {},
   "outputs": [],
   "source": [
    "ridge_coefs = pd.Series(ridge.best_estimator_.coef_, index=x_train.columns)\n",
    "lasso_coefs = pd.Series(lasso.best_estimator_.coef_, index=x_train.columns)"
   ]
  },
  {
   "cell_type": "code",
   "execution_count": 42,
   "id": "ea04db9e-3549-48d9-bc56-af738dcd0568",
   "metadata": {},
   "outputs": [
    {
     "data": {
      "image/png": "[encoded data removed]",
      "text/plain": [
       "<Figure size 1000x600 with 1 Axes>"
      ]
     },
     "metadata": {},
     "output_type": "display_data"
    }
   ],
   "source": [
    "# Plot side by side\n",
    "plt.figure(figsize=(10, 6))\n",
    "ridge_coefs.sort_values().plot(kind='barh', color='skyblue', label='Ridge')\n",
    "plt.title(\"Feature Coefficients - Ridge Regression\")\n",
    "plt.xlabel(\"Coefficient Value\")\n",
    "plt.grid(True)\n",
    "plt.show()"
   ]
  },
  {
   "cell_type": "code",
   "execution_count": 43,
   "id": "87dbc55e-0557-421b-8de3-59eb39455e7a",
   "metadata": {},
   "outputs": [
    {
     "data": {
      "image/png": "[encoded data removed]",
      "text/plain": [
       "<Figure size 1000x600 with 1 Axes>"
      ]
     },
     "metadata": {},
     "output_type": "display_data"
    }
   ],
   "source": [
    "plt.figure(figsize=(10, 6))\n",
    "lasso_coefs.sort_values().plot(kind='barh', color='salmon', label='Lasso')\n",
    "plt.title(\"Feature Coefficients - Lasso Regression\")\n",
    "plt.xlabel(\"Coefficient Value\")\n",
    "plt.grid(True)\n",
    "plt.show()"
   ]
  },
  {
   "cell_type": "code",
   "execution_count": null,
   "id": "8615b731-81af-429d-8d91-19afa7fc0aa2",
   "metadata": {},
   "outputs": [],
   "source": []
  }
 ],
 "metadata": {
  "kernelspec": {
   "display_name": "Python 3 (ipykernel)",
   "language": "python",
   "name": "python3"
  },
  "language_info": {
   "codemirror_mode": {
    "name": "ipython",
    "version": 3
   },
   "file_extension": ".py",
   "mimetype": "text/x-python",
   "name": "python",
   "nbconvert_exporter": "python",
   "pygments_lexer": "ipython3",
   "version": "3.13.5"
  }
 },
 "nbformat": 4,
 "nbformat_minor": 5
}
